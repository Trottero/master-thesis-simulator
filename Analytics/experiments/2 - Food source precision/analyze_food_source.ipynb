{
 "cells": [
  {
   "cell_type": "code",
   "execution_count": 1,
   "metadata": {},
   "outputs": [],
   "source": [
    "import seaborn as sns\n",
    "import pandas as pd\n",
    "import numpy as np\n",
    "import matplotlib.pyplot as plt\n",
    "\n",
    "sns.set_theme()"
   ]
  },
  {
   "cell_type": "code",
   "execution_count": 2,
   "metadata": {},
   "outputs": [
    {
     "name": "stdout",
     "output_type": "stream",
     "text": [
      "Found 1 files\n",
      "Newest file: 2023-06-27-12-30-58.csv\n"
     ]
    }
   ],
   "source": [
    "# Get a list of all files which are .csv files in ../DOTSSimulator/Assets/SimulationResults\n",
    "import os\n",
    "files = [f for f in os.listdir('.') if f.endswith('.csv')]\n",
    "# Sort the files descending\n",
    "files.sort(reverse=True)\n",
    "\n",
    "print(f'Found {len(files)} files')\n",
    "print(f'Newest file: {files[0]}')\n",
    "\n",
    "result_file_path = f'{files[0]}'"
   ]
  },
  {
   "cell_type": "code",
   "execution_count": 3,
   "metadata": {},
   "outputs": [
    {
     "name": "stdout",
     "output_type": "stream",
     "text": [
      "<class 'pandas.core.frame.DataFrame'>\n",
      "RangeIndex: 727 entries, 0 to 726\n",
      "Data columns (total 8 columns):\n",
      " #   Column              Non-Null Count  Dtype  \n",
      "---  ------              --------------  -----  \n",
      " 0   Step                727 non-null    int64  \n",
      " 1   TimeStamp           727 non-null    float64\n",
      " 2   AvgEnergy           727 non-null    int64  \n",
      " 3   NoBoids             727 non-null    int64  \n",
      " 4   NoFoodSources       727 non-null    int64  \n",
      " 5   TotalFoodAvailable  727 non-null    float64\n",
      " 6   Polarization        0 non-null      float64\n",
      " 7   Expanse             0 non-null      float64\n",
      "dtypes: float64(4), int64(4)\n",
      "memory usage: 45.6 KB\n",
      "None\n"
     ]
    },
    {
     "data": {
      "text/html": [
       "<div>\n",
       "<style scoped>\n",
       "    .dataframe tbody tr th:only-of-type {\n",
       "        vertical-align: middle;\n",
       "    }\n",
       "\n",
       "    .dataframe tbody tr th {\n",
       "        vertical-align: top;\n",
       "    }\n",
       "\n",
       "    .dataframe thead th {\n",
       "        text-align: right;\n",
       "    }\n",
       "</style>\n",
       "<table border=\"1\" class=\"dataframe\">\n",
       "  <thead>\n",
       "    <tr style=\"text-align: right;\">\n",
       "      <th></th>\n",
       "      <th>Step</th>\n",
       "      <th>TimeStamp</th>\n",
       "      <th>AvgEnergy</th>\n",
       "      <th>NoBoids</th>\n",
       "      <th>NoFoodSources</th>\n",
       "      <th>TotalFoodAvailable</th>\n",
       "      <th>Polarization</th>\n",
       "      <th>Expanse</th>\n",
       "    </tr>\n",
       "  </thead>\n",
       "  <tbody>\n",
       "    <tr>\n",
       "      <th>0</th>\n",
       "      <td>0</td>\n",
       "      <td>0.00200</td>\n",
       "      <td>0</td>\n",
       "      <td>0</td>\n",
       "      <td>1</td>\n",
       "      <td>0.091008</td>\n",
       "      <td>NaN</td>\n",
       "      <td>NaN</td>\n",
       "    </tr>\n",
       "    <tr>\n",
       "      <th>1</th>\n",
       "      <td>1</td>\n",
       "      <td>30.00002</td>\n",
       "      <td>0</td>\n",
       "      <td>0</td>\n",
       "      <td>1</td>\n",
       "      <td>2.816702</td>\n",
       "      <td>NaN</td>\n",
       "      <td>NaN</td>\n",
       "    </tr>\n",
       "    <tr>\n",
       "      <th>2</th>\n",
       "      <td>2</td>\n",
       "      <td>60.00006</td>\n",
       "      <td>0</td>\n",
       "      <td>0</td>\n",
       "      <td>1</td>\n",
       "      <td>5.542397</td>\n",
       "      <td>NaN</td>\n",
       "      <td>NaN</td>\n",
       "    </tr>\n",
       "    <tr>\n",
       "      <th>3</th>\n",
       "      <td>3</td>\n",
       "      <td>90.00011</td>\n",
       "      <td>0</td>\n",
       "      <td>0</td>\n",
       "      <td>1</td>\n",
       "      <td>8.268091</td>\n",
       "      <td>NaN</td>\n",
       "      <td>NaN</td>\n",
       "    </tr>\n",
       "    <tr>\n",
       "      <th>4</th>\n",
       "      <td>4</td>\n",
       "      <td>119.99920</td>\n",
       "      <td>0</td>\n",
       "      <td>0</td>\n",
       "      <td>1</td>\n",
       "      <td>10.992270</td>\n",
       "      <td>NaN</td>\n",
       "      <td>NaN</td>\n",
       "    </tr>\n",
       "  </tbody>\n",
       "</table>\n",
       "</div>"
      ],
      "text/plain": [
       "   Step  TimeStamp  AvgEnergy  NoBoids  NoFoodSources  TotalFoodAvailable  \\\n",
       "0     0    0.00200          0        0              1            0.091008   \n",
       "1     1   30.00002          0        0              1            2.816702   \n",
       "2     2   60.00006          0        0              1            5.542397   \n",
       "3     3   90.00011          0        0              1            8.268091   \n",
       "4     4  119.99920          0        0              1           10.992270   \n",
       "\n",
       "   Polarization  Expanse  \n",
       "0           NaN      NaN  \n",
       "1           NaN      NaN  \n",
       "2           NaN      NaN  \n",
       "3           NaN      NaN  \n",
       "4           NaN      NaN  "
      ]
     },
     "execution_count": 3,
     "metadata": {},
     "output_type": "execute_result"
    }
   ],
   "source": [
    "results_df: pd.DataFrame = pd.read_csv(result_file_path)\n",
    "# Print basic information about the dataframe\n",
    "print(results_df.info())\n",
    "\n",
    "results_df.head()"
   ]
  },
  {
   "cell_type": "code",
   "execution_count": 4,
   "metadata": {},
   "outputs": [
    {
     "name": "stdout",
     "output_type": "stream",
     "text": [
      "            Step     TimeStamp  AvgEnergy  NoBoids  NoFoodSources  \\\n",
      "count  721.00000    721.000000      721.0    721.0          721.0   \n",
      "mean   360.00000  10800.552879        0.0      0.0            1.0   \n",
      "std    208.27906   6248.791844        0.0      0.0            0.0   \n",
      "min      0.00000      0.002000        0.0      0.0            1.0   \n",
      "25%    180.00000   5400.000000        0.0      0.0            1.0   \n",
      "50%    360.00000  10800.460000        0.0      0.0            1.0   \n",
      "75%    540.00000  16201.070000        0.0      0.0            1.0   \n",
      "max    720.00000  21601.070000        0.0      0.0            1.0   \n",
      "\n",
      "       TotalFoodAvailable  Polarization  Expanse  \n",
      "count          721.000000           0.0      0.0  \n",
      "mean           981.339555           NaN      NaN  \n",
      "std            567.704997           NaN      NaN  \n",
      "min              0.091008           NaN      NaN  \n",
      "25%            490.714500           NaN      NaN  \n",
      "50%            981.339500           NaN      NaN  \n",
      "75%           1471.964000           NaN      NaN  \n",
      "max           1962.589000           NaN      NaN  \n"
     ]
    },
    {
     "data": {
      "text/html": [
       "<div>\n",
       "<style scoped>\n",
       "    .dataframe tbody tr th:only-of-type {\n",
       "        vertical-align: middle;\n",
       "    }\n",
       "\n",
       "    .dataframe tbody tr th {\n",
       "        vertical-align: top;\n",
       "    }\n",
       "\n",
       "    .dataframe thead th {\n",
       "        text-align: right;\n",
       "    }\n",
       "</style>\n",
       "<table border=\"1\" class=\"dataframe\">\n",
       "  <thead>\n",
       "    <tr style=\"text-align: right;\">\n",
       "      <th></th>\n",
       "      <th>Step</th>\n",
       "      <th>TimeStamp</th>\n",
       "      <th>AvgEnergy</th>\n",
       "      <th>NoBoids</th>\n",
       "      <th>NoFoodSources</th>\n",
       "      <th>TotalFoodAvailable</th>\n",
       "      <th>Polarization</th>\n",
       "      <th>Expanse</th>\n",
       "    </tr>\n",
       "  </thead>\n",
       "  <tbody>\n",
       "    <tr>\n",
       "      <th>0</th>\n",
       "      <td>0</td>\n",
       "      <td>0.00200</td>\n",
       "      <td>0</td>\n",
       "      <td>0</td>\n",
       "      <td>1</td>\n",
       "      <td>0.091008</td>\n",
       "      <td>NaN</td>\n",
       "      <td>NaN</td>\n",
       "    </tr>\n",
       "    <tr>\n",
       "      <th>1</th>\n",
       "      <td>1</td>\n",
       "      <td>30.00002</td>\n",
       "      <td>0</td>\n",
       "      <td>0</td>\n",
       "      <td>1</td>\n",
       "      <td>2.816702</td>\n",
       "      <td>NaN</td>\n",
       "      <td>NaN</td>\n",
       "    </tr>\n",
       "    <tr>\n",
       "      <th>2</th>\n",
       "      <td>2</td>\n",
       "      <td>60.00006</td>\n",
       "      <td>0</td>\n",
       "      <td>0</td>\n",
       "      <td>1</td>\n",
       "      <td>5.542397</td>\n",
       "      <td>NaN</td>\n",
       "      <td>NaN</td>\n",
       "    </tr>\n",
       "    <tr>\n",
       "      <th>3</th>\n",
       "      <td>3</td>\n",
       "      <td>90.00011</td>\n",
       "      <td>0</td>\n",
       "      <td>0</td>\n",
       "      <td>1</td>\n",
       "      <td>8.268091</td>\n",
       "      <td>NaN</td>\n",
       "      <td>NaN</td>\n",
       "    </tr>\n",
       "    <tr>\n",
       "      <th>4</th>\n",
       "      <td>4</td>\n",
       "      <td>119.99920</td>\n",
       "      <td>0</td>\n",
       "      <td>0</td>\n",
       "      <td>1</td>\n",
       "      <td>10.992270</td>\n",
       "      <td>NaN</td>\n",
       "      <td>NaN</td>\n",
       "    </tr>\n",
       "  </tbody>\n",
       "</table>\n",
       "</div>"
      ],
      "text/plain": [
       "   Step  TimeStamp  AvgEnergy  NoBoids  NoFoodSources  TotalFoodAvailable  \\\n",
       "0     0    0.00200          0        0              1            0.091008   \n",
       "1     1   30.00002          0        0              1            2.816702   \n",
       "2     2   60.00006          0        0              1            5.542397   \n",
       "3     3   90.00011          0        0              1            8.268091   \n",
       "4     4  119.99920          0        0              1           10.992270   \n",
       "\n",
       "   Polarization  Expanse  \n",
       "0           NaN      NaN  \n",
       "1           NaN      NaN  \n",
       "2           NaN      NaN  \n",
       "3           NaN      NaN  \n",
       "4           NaN      NaN  "
      ]
     },
     "execution_count": 4,
     "metadata": {},
     "output_type": "execute_result"
    }
   ],
   "source": [
    "# Configuration:\n",
    "\n",
    "truncated_df = results_df.iloc[:721]\n",
    "\n",
    "print(truncated_df.describe())\n",
    "\n",
    "truncated_df.head()"
   ]
  },
  {
   "cell_type": "code",
   "execution_count": 5,
   "metadata": {},
   "outputs": [],
   "source": []
  },
  {
   "cell_type": "code",
   "execution_count": 9,
   "metadata": {},
   "outputs": [
    {
     "data": {
      "image/png": "[encoded data removed]",
      "text/plain": [
       "<Figure size 1500x500 with 1 Axes>"
      ]
     },
     "metadata": {},
     "output_type": "display_data"
    }
   ],
   "source": [
    "fig = plt.figure(figsize=(15, 5))\n",
    "\n",
    "ax = fig.add_subplot()\n",
    "sns.lineplot(data=results_df, x='Step', y='TotalFoodAvailable', color='blue', ax=ax)\n",
    "plt.xlabel('Hours')\n",
    "plt.ylabel('Total Food Available')\n",
    "plt.tight_layout()\n",
    " \n",
    "plt.savefig('plots/exp2-TotalFoodAvailable.pdf')"
   ]
  },
  {
   "cell_type": "code",
   "execution_count": 8,
   "metadata": {},
   "outputs": [
    {
     "name": "stdout",
     "output_type": "stream",
     "text": [
      "Min food available: 0.09100791\n",
      "Max food available: 1962.589\n",
      "Coefficient: 65.41659973633334\n"
     ]
    }
   ],
   "source": [
    "# Compute coefficient in avg energy\n",
    "min_energy = truncated_df['TotalFoodAvailable'].min()\n",
    "max_energy = truncated_df['TotalFoodAvailable'].max()\n",
    "print(f'Min food available: {min_energy}')\n",
    "print(f'Max food available: {max_energy}')\n",
    "print(f'Coefficient: {(max_energy - min_energy) / 30}')"
   ]
  }
 ],
 "metadata": {
  "kernelspec": {
   "display_name": "Python 3.10.8 ('Analytics-2mNnF_Ho')",
   "language": "python",
   "name": "python3"
  },
  "language_info": {
   "codemirror_mode": {
    "name": "ipython",
    "version": 3
   },
   "file_extension": ".py",
   "mimetype": "text/x-python",
   "name": "python",
   "nbconvert_exporter": "python",
   "pygments_lexer": "ipython3",
   "version": "3.10.8"
  },
  "orig_nbformat": 4,
  "vscode": {
   "interpreter": {
    "hash": "f36c3179c88b8b66cd81fd3781654d29eb754a86f698dd879667f3d382103663"
   }
  }
 },
 "nbformat": 4,
 "nbformat_minor": 2
}
