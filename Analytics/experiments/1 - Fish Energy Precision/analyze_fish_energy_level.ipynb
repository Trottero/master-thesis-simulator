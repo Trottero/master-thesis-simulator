{
 "cells": [
  {
   "cell_type": "code",
   "execution_count": 1,
   "metadata": {},
   "outputs": [],
   "source": [
    "import seaborn as sns\n",
    "import pandas as pd\n",
    "import numpy as np\n",
    "import matplotlib.pyplot as plt\n",
    "\n",
    "sns.set_theme()"
   ]
  },
  {
   "cell_type": "code",
   "execution_count": 2,
   "metadata": {},
   "outputs": [
    {
     "name": "stdout",
     "output_type": "stream",
     "text": [
      "Found 1 files\n",
      "Newest file: 2023-06-12-11-55-42.csv\n"
     ]
    }
   ],
   "source": [
    "# Get a list of all files which are .csv files in ../DOTSSimulator/Assets/SimulationResults\n",
    "import os\n",
    "files = [f for f in os.listdir('.') if f.endswith('.csv')]\n",
    "# Sort the files descending\n",
    "files.sort(reverse=True)\n",
    "\n",
    "print(f'Found {len(files)} files')\n",
    "print(f'Newest file: {files[0]}')\n",
    "\n",
    "result_file_path = f'{files[0]}'"
   ]
  },
  {
   "cell_type": "code",
   "execution_count": 3,
   "metadata": {},
   "outputs": [
    {
     "name": "stdout",
     "output_type": "stream",
     "text": [
      "<class 'pandas.core.frame.DataFrame'>\n",
      "RangeIndex: 731 entries, 0 to 730\n",
      "Data columns (total 8 columns):\n",
      " #   Column              Non-Null Count  Dtype  \n",
      "---  ------              --------------  -----  \n",
      " 0   Step                731 non-null    int64  \n",
      " 1   TimeStamp           731 non-null    float64\n",
      " 2   AvgEnergy           731 non-null    float64\n",
      " 3   NoBoids             731 non-null    int64  \n",
      " 4   NoFoodSources       731 non-null    int64  \n",
      " 5   TotalFoodAvailable  731 non-null    int64  \n",
      " 6   Polarization        731 non-null    float64\n",
      " 7   Expanse             731 non-null    float64\n",
      "dtypes: float64(4), int64(4)\n",
      "memory usage: 45.8 KB\n",
      "None\n"
     ]
    },
    {
     "data": {
      "text/html": [
       "<div>\n",
       "<style scoped>\n",
       "    .dataframe tbody tr th:only-of-type {\n",
       "        vertical-align: middle;\n",
       "    }\n",
       "\n",
       "    .dataframe tbody tr th {\n",
       "        vertical-align: top;\n",
       "    }\n",
       "\n",
       "    .dataframe thead th {\n",
       "        text-align: right;\n",
       "    }\n",
       "</style>\n",
       "<table border=\"1\" class=\"dataframe\">\n",
       "  <thead>\n",
       "    <tr style=\"text-align: right;\">\n",
       "      <th></th>\n",
       "      <th>Step</th>\n",
       "      <th>TimeStamp</th>\n",
       "      <th>AvgEnergy</th>\n",
       "      <th>NoBoids</th>\n",
       "      <th>NoFoodSources</th>\n",
       "      <th>TotalFoodAvailable</th>\n",
       "      <th>Polarization</th>\n",
       "      <th>Expanse</th>\n",
       "    </tr>\n",
       "  </thead>\n",
       "  <tbody>\n",
       "    <tr>\n",
       "      <th>0</th>\n",
       "      <td>0</td>\n",
       "      <td>0.00209</td>\n",
       "      <td>282.9992</td>\n",
       "      <td>25</td>\n",
       "      <td>0</td>\n",
       "      <td>0</td>\n",
       "      <td>0.455601</td>\n",
       "      <td>1.133204</td>\n",
       "    </tr>\n",
       "    <tr>\n",
       "      <th>1</th>\n",
       "      <td>1</td>\n",
       "      <td>29.99991</td>\n",
       "      <td>282.9760</td>\n",
       "      <td>25</td>\n",
       "      <td>0</td>\n",
       "      <td>0</td>\n",
       "      <td>0.476619</td>\n",
       "      <td>1.116590</td>\n",
       "    </tr>\n",
       "    <tr>\n",
       "      <th>2</th>\n",
       "      <td>2</td>\n",
       "      <td>59.99985</td>\n",
       "      <td>282.9527</td>\n",
       "      <td>25</td>\n",
       "      <td>0</td>\n",
       "      <td>0</td>\n",
       "      <td>0.486147</td>\n",
       "      <td>1.052136</td>\n",
       "    </tr>\n",
       "    <tr>\n",
       "      <th>3</th>\n",
       "      <td>3</td>\n",
       "      <td>89.99978</td>\n",
       "      <td>282.9294</td>\n",
       "      <td>25</td>\n",
       "      <td>0</td>\n",
       "      <td>0</td>\n",
       "      <td>0.474067</td>\n",
       "      <td>1.053003</td>\n",
       "    </tr>\n",
       "    <tr>\n",
       "      <th>4</th>\n",
       "      <td>4</td>\n",
       "      <td>119.99840</td>\n",
       "      <td>282.9062</td>\n",
       "      <td>25</td>\n",
       "      <td>0</td>\n",
       "      <td>0</td>\n",
       "      <td>0.476576</td>\n",
       "      <td>1.077438</td>\n",
       "    </tr>\n",
       "  </tbody>\n",
       "</table>\n",
       "</div>"
      ],
      "text/plain": [
       "   Step  TimeStamp  AvgEnergy  NoBoids  NoFoodSources  TotalFoodAvailable  \\\n",
       "0     0    0.00209   282.9992       25              0                   0   \n",
       "1     1   29.99991   282.9760       25              0                   0   \n",
       "2     2   59.99985   282.9527       25              0                   0   \n",
       "3     3   89.99978   282.9294       25              0                   0   \n",
       "4     4  119.99840   282.9062       25              0                   0   \n",
       "\n",
       "   Polarization   Expanse  \n",
       "0      0.455601  1.133204  \n",
       "1      0.476619  1.116590  \n",
       "2      0.486147  1.052136  \n",
       "3      0.474067  1.053003  \n",
       "4      0.476576  1.077438  "
      ]
     },
     "execution_count": 3,
     "metadata": {},
     "output_type": "execute_result"
    }
   ],
   "source": [
    "results_df: pd.DataFrame = pd.read_csv(result_file_path)\n",
    "# Print basic information about the dataframe\n",
    "print(results_df.info())\n",
    "\n",
    "results_df.head()"
   ]
  },
  {
   "cell_type": "code",
   "execution_count": 14,
   "metadata": {},
   "outputs": [
    {
     "name": "stdout",
     "output_type": "stream",
     "text": [
      "            Step     TimeStamp   AvgEnergy  NoBoids  NoFoodSources  \\\n",
      "count  721.00000    721.000000  721.000000    721.0          721.0   \n",
      "mean   360.00000  10801.544064  274.624236     25.0            0.0   \n",
      "std    208.27906   6249.528373    4.845380      0.0            0.0   \n",
      "min      0.00000      0.002090  266.249200     25.0            0.0   \n",
      "25%    180.00000   5400.296000  270.436700     25.0            0.0   \n",
      "50%    360.00000  10801.090000  274.624200     25.0            0.0   \n",
      "75%    540.00000  16203.020000  278.811700     25.0            0.0   \n",
      "max    720.00000  21603.030000  282.999200     25.0            0.0   \n",
      "\n",
      "       TotalFoodAvailable  Polarization     Expanse  \n",
      "count               721.0    721.000000  721.000000  \n",
      "mean                  0.0      0.468016    0.991577  \n",
      "std                   0.0      0.024520    0.114994  \n",
      "min                   0.0      0.320154    0.683375  \n",
      "25%                   0.0      0.455726    0.909610  \n",
      "50%                   0.0      0.474269    0.989974  \n",
      "75%                   0.0      0.486534    1.067340  \n",
      "max                   0.0      0.499221    1.445003  \n"
     ]
    },
    {
     "data": {
      "text/html": [
       "<div>\n",
       "<style scoped>\n",
       "    .dataframe tbody tr th:only-of-type {\n",
       "        vertical-align: middle;\n",
       "    }\n",
       "\n",
       "    .dataframe tbody tr th {\n",
       "        vertical-align: top;\n",
       "    }\n",
       "\n",
       "    .dataframe thead th {\n",
       "        text-align: right;\n",
       "    }\n",
       "</style>\n",
       "<table border=\"1\" class=\"dataframe\">\n",
       "  <thead>\n",
       "    <tr style=\"text-align: right;\">\n",
       "      <th></th>\n",
       "      <th>Step</th>\n",
       "      <th>TimeStamp</th>\n",
       "      <th>AvgEnergy</th>\n",
       "      <th>NoBoids</th>\n",
       "      <th>NoFoodSources</th>\n",
       "      <th>TotalFoodAvailable</th>\n",
       "      <th>Polarization</th>\n",
       "      <th>Expanse</th>\n",
       "    </tr>\n",
       "  </thead>\n",
       "  <tbody>\n",
       "    <tr>\n",
       "      <th>0</th>\n",
       "      <td>0</td>\n",
       "      <td>0.00209</td>\n",
       "      <td>282.9992</td>\n",
       "      <td>25</td>\n",
       "      <td>0</td>\n",
       "      <td>0</td>\n",
       "      <td>0.455601</td>\n",
       "      <td>1.133204</td>\n",
       "    </tr>\n",
       "    <tr>\n",
       "      <th>1</th>\n",
       "      <td>1</td>\n",
       "      <td>29.99991</td>\n",
       "      <td>282.9760</td>\n",
       "      <td>25</td>\n",
       "      <td>0</td>\n",
       "      <td>0</td>\n",
       "      <td>0.476619</td>\n",
       "      <td>1.116590</td>\n",
       "    </tr>\n",
       "    <tr>\n",
       "      <th>2</th>\n",
       "      <td>2</td>\n",
       "      <td>59.99985</td>\n",
       "      <td>282.9527</td>\n",
       "      <td>25</td>\n",
       "      <td>0</td>\n",
       "      <td>0</td>\n",
       "      <td>0.486147</td>\n",
       "      <td>1.052136</td>\n",
       "    </tr>\n",
       "    <tr>\n",
       "      <th>3</th>\n",
       "      <td>3</td>\n",
       "      <td>89.99978</td>\n",
       "      <td>282.9294</td>\n",
       "      <td>25</td>\n",
       "      <td>0</td>\n",
       "      <td>0</td>\n",
       "      <td>0.474067</td>\n",
       "      <td>1.053003</td>\n",
       "    </tr>\n",
       "    <tr>\n",
       "      <th>4</th>\n",
       "      <td>4</td>\n",
       "      <td>119.99840</td>\n",
       "      <td>282.9062</td>\n",
       "      <td>25</td>\n",
       "      <td>0</td>\n",
       "      <td>0</td>\n",
       "      <td>0.476576</td>\n",
       "      <td>1.077438</td>\n",
       "    </tr>\n",
       "  </tbody>\n",
       "</table>\n",
       "</div>"
      ],
      "text/plain": [
       "   Step  TimeStamp  AvgEnergy  NoBoids  NoFoodSources  TotalFoodAvailable  \\\n",
       "0     0    0.00209   282.9992       25              0                   0   \n",
       "1     1   29.99991   282.9760       25              0                   0   \n",
       "2     2   59.99985   282.9527       25              0                   0   \n",
       "3     3   89.99978   282.9294       25              0                   0   \n",
       "4     4  119.99840   282.9062       25              0                   0   \n",
       "\n",
       "   Polarization   Expanse  \n",
       "0      0.455601  1.133204  \n",
       "1      0.476619  1.116590  \n",
       "2      0.486147  1.052136  \n",
       "3      0.474067  1.053003  \n",
       "4      0.476576  1.077438  "
      ]
     },
     "execution_count": 14,
     "metadata": {},
     "output_type": "execute_result"
    }
   ],
   "source": [
    "# Configuration:\n",
    "\n",
    "truncated_df = results_df.iloc[:721]\n",
    "\n",
    "print(truncated_df.describe())\n",
    "\n",
    "truncated_df.head()"
   ]
  },
  {
   "cell_type": "code",
   "execution_count": 5,
   "metadata": {},
   "outputs": [],
   "source": []
  },
  {
   "cell_type": "code",
   "execution_count": 19,
   "metadata": {},
   "outputs": [
    {
     "data": {
      "image/png": "[encoded data removed]",
      "text/plain": [
       "<Figure size 1500x500 with 1 Axes>"
      ]
     },
     "metadata": {},
     "output_type": "display_data"
    }
   ],
   "source": [
    "fig = plt.figure(figsize=(15, 5))\n",
    "\n",
    "ax = fig.add_subplot()\n",
    "sns.lineplot(data=results_df, x='Step', y='AvgEnergy', color='blue', ax=ax)\n",
    "plt.xlabel('Hours')\n",
    "plt.ylabel('Average Fish Energy')\n",
    "plt.tight_layout()\n",
    " \n",
    "plt.savefig('plots/exp1-AvgEnergy.pdf')"
   ]
  },
  {
   "cell_type": "code",
   "execution_count": 22,
   "metadata": {},
   "outputs": [
    {
     "name": "stdout",
     "output_type": "stream",
     "text": [
      "Min energy: 266.2492\n",
      "Max energy: 282.9992\n",
      "Coefficient: 0.5583333333333333\n"
     ]
    }
   ],
   "source": [
    "# Compute coefficient in avg energy\n",
    "min_energy = truncated_df['AvgEnergy'].min()\n",
    "max_energy = truncated_df['AvgEnergy'].max()\n",
    "print(f'Min energy: {min_energy}')\n",
    "print(f'Max energy: {max_energy}')\n",
    "print(f'Coefficient: {(max_energy - min_energy) / 30}')"
   ]
  }
 ],
 "metadata": {
  "kernelspec": {
   "display_name": "Python 3.10.8 ('Analytics-2mNnF_Ho')",
   "language": "python",
   "name": "python3"
  },
  "language_info": {
   "codemirror_mode": {
    "name": "ipython",
    "version": 3
   },
   "file_extension": ".py",
   "mimetype": "text/x-python",
   "name": "python",
   "nbconvert_exporter": "python",
   "pygments_lexer": "ipython3",
   "version": "3.10.2"
  },
  "orig_nbformat": 4,
  "vscode": {
   "interpreter": {
    "hash": "f36c3179c88b8b66cd81fd3781654d29eb754a86f698dd879667f3d382103663"
   }
  }
 },
 "nbformat": 4,
 "nbformat_minor": 2
}
